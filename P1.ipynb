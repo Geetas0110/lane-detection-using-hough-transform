{
 "cells": [
  {
   "cell_type": "markdown",
   "metadata": {},
   "source": [
    "# **Finding Lane Lines on the Road** \n",
    "***\n",
    "In this project, you will use the tools you learned about in the lesson to identify lane lines on the road.  You can develop your pipeline on a series of individual images, and later apply the result to a video stream (really just a series of images). Check out the video clip \"raw-lines-example.mp4\" (also contained in this repository) to see what the output should look like after using the helper functions below. \n",
    "\n",
    "Once you have a result that looks roughly like \"raw-lines-example.mp4\", you'll need to get creative and try to average and/or extrapolate the line segments you've detected to map out the full extent of the lane lines.  You can see an example of the result you're going for in the video \"P1_example.mp4\".  Ultimately, you would like to draw just one line for the left side of the lane, and one for the right.\n",
    "\n",
    "---\n",
    "Let's have a look at our first image called 'test_images/solidWhiteRight.jpg'.  Run the 2 cells below (hit Shift-Enter or the \"play\" button above) to display the image.\n",
    "\n",
    "**Note** If, at any point, you encounter frozen display windows or other confounding issues, you can always start again with a clean slate by going to the \"Kernel\" menu above and selecting \"Restart & Clear Output\".\n",
    "\n",
    "---"
   ]
  },
  {
   "cell_type": "markdown",
   "metadata": {},
   "source": [
    "**The tools you have are color selection, region of interest selection, grayscaling, Gaussian smoothing, Canny Edge Detection and Hough Tranform line detection.  You  are also free to explore and try other techniques that were not presented in the lesson.  Your goal is piece together a pipeline to detect the line segments in the image, then average/extrapolate them and draw them onto the image for display (as below).  Once you have a working pipeline, try it out on the video stream below.**\n",
    "\n",
    "---\n",
    "\n",
    "<figure>\n",
    " <img src=\"line-segments-example.jpg\" width=\"380\" alt=\"Combined Image\" />\n",
    " <figcaption>\n",
    " <p></p> \n",
    " <p style=\"text-align: center;\"> Your output should look something like this (above) after detecting line segments using the helper functions below </p> \n",
    " </figcaption>\n",
    "</figure>\n",
    " <p></p> \n",
    "<figure>\n",
    " <img src=\"laneLines_thirdPass.jpg\" width=\"380\" alt=\"Combined Image\" />\n",
    " <figcaption>\n",
    " <p></p> \n",
    " <p style=\"text-align: center;\"> Your goal is to connect/average/extrapolate line segments to get output like this</p> \n",
    " </figcaption>\n",
    "</figure>"
   ]
  },
  {
   "cell_type": "code",
   "execution_count": 1,
   "metadata": {},
   "outputs": [
    {
     "ename": "ModuleNotFoundError",
     "evalue": "No module named 'cv2'",
     "output_type": "error",
     "traceback": [
      "\u001b[1;31m---------------------------------------------------------------------------\u001b[0m",
      "\u001b[1;31mModuleNotFoundError\u001b[0m                       Traceback (most recent call last)",
      "\u001b[1;32m<ipython-input-1-98f81c83b85c>\u001b[0m in \u001b[0;36m<module>\u001b[1;34m\u001b[0m\n\u001b[0;32m      3\u001b[0m \u001b[1;32mimport\u001b[0m \u001b[0mmatplotlib\u001b[0m\u001b[1;33m.\u001b[0m\u001b[0mimage\u001b[0m \u001b[1;32mas\u001b[0m \u001b[0mmpimg\u001b[0m\u001b[1;33m\u001b[0m\u001b[1;33m\u001b[0m\u001b[0m\n\u001b[0;32m      4\u001b[0m \u001b[1;32mimport\u001b[0m \u001b[0mnumpy\u001b[0m \u001b[1;32mas\u001b[0m \u001b[0mnp\u001b[0m\u001b[1;33m\u001b[0m\u001b[1;33m\u001b[0m\u001b[0m\n\u001b[1;32m----> 5\u001b[1;33m \u001b[1;32mimport\u001b[0m \u001b[0mcv2\u001b[0m\u001b[1;33m\u001b[0m\u001b[1;33m\u001b[0m\u001b[0m\n\u001b[0m\u001b[0;32m      6\u001b[0m \u001b[0mget_ipython\u001b[0m\u001b[1;33m(\u001b[0m\u001b[1;33m)\u001b[0m\u001b[1;33m.\u001b[0m\u001b[0mrun_line_magic\u001b[0m\u001b[1;33m(\u001b[0m\u001b[1;34m'matplotlib'\u001b[0m\u001b[1;33m,\u001b[0m \u001b[1;34m'inline'\u001b[0m\u001b[1;33m)\u001b[0m\u001b[1;33m\u001b[0m\u001b[1;33m\u001b[0m\u001b[0m\n",
      "\u001b[1;31mModuleNotFoundError\u001b[0m: No module named 'cv2'"
     ]
    }
   ],
   "source": [
    "#importing some useful packages\n",
    "import matplotlib.pyplot as plt\n",
    "import matplotlib.image as mpimg\n",
    "import numpy as np\n",
    "import cv2\n",
    "%matplotlib inline"
   ]
  },
  {
   "cell_type": "code",
   "execution_count": null,
   "metadata": {},
   "outputs": [],
   "source": [
    "#reading in an image\n",
    "image = mpimg.imread('test_images/solidWhiteRight.jpg')\n",
    "#printing out some stats and plotting\n",
    "print('This image is:', type(image), 'with dimesions:', image.shape)\n",
    "plt.imshow(image)  #call as plt.imshow(gray, cmap='gray') to show a grayscaled image"
   ]
  },
  {
   "cell_type": "markdown",
   "metadata": {},
   "source": [
    "**Some OpenCV functions (beyond those introduced in the lesson) that might be useful for this project are:**\n",
    "\n",
    "`cv2.inRange()` for color selection  \n",
    "`cv2.fillPoly()` for regions selection  \n",
    "`cv2.line()` to draw lines on an image given endpoints  \n",
    "`cv2.addWeighted()` to coadd / overlay two images\n",
    "`cv2.cvtColor()` to grayscale or change color\n",
    "`cv2.imwrite()` to output images to file  \n",
    "`cv2.bitwise_and()` to apply a mask to an image\n",
    "\n",
    "**Check out the OpenCV documentation to learn about these and discover even more awesome functionality!**"
   ]
  },
  {
   "cell_type": "markdown",
   "metadata": {},
   "source": [
    "Below are some helper functions to help get you started. They should look familiar from the lesson!"
   ]
  },
  {
   "cell_type": "code",
   "execution_count": null,
   "metadata": {},
   "outputs": [],
   "source": [
    "import math\n",
    "\n",
    "def grayscale(img):\n",
    "    \"\"\"Applies the Grayscale transform\n",
    "    This will return an image with only one color channel\n",
    "    but NOTE: to see the returned image as grayscale\n",
    "    you should call plt.imshow(gray, cmap='gray')\"\"\"\n",
    "    return cv2.cvtColor(img, cv2.COLOR_RGB2GRAY)\n",
    "    # Or use BGR2GRAY if you read an image with cv2.imread()\n",
    "    # return cv2.cvtColor(img, cv2.COLOR_BGR2GRAY)\n",
    "    \n",
    "def canny(img, low_threshold, high_threshold):\n",
    "    \"\"\"Applies the Canny transform\"\"\"\n",
    "    return cv2.Canny(img, low_threshold, high_threshold)\n",
    "\n",
    "def gaussian_blur(img, kernel_size):\n",
    "    \"\"\"Applies a Gaussian Noise kernel\"\"\"\n",
    "    return cv2.GaussianBlur(img, (kernel_size, kernel_size), 0)\n",
    "\n",
    "def median_blur(img, kernel_size):  \n",
    "    \"\"\"Applies a Median Noise kernel\"\"\"\n",
    "    return cv2.medianBlur(img, kernel_size)\n",
    "    \n",
    "def region_of_interest(img, vertices):\n",
    "    \"\"\"\n",
    "    Applies an image mask.\n",
    "    \n",
    "    Only keeps the region of the image defined by the polygon\n",
    "    formed from `vertices`. The rest of the image is set to black.\n",
    "    \"\"\"\n",
    "    #defining a blank mask to start with\n",
    "    mask = np.zeros_like(img)   \n",
    "    \n",
    "    #defining a 3 channel or 1 channel color to fill the mask with depending on the input image\n",
    "    if len(img.shape) > 2:\n",
    "        channel_count = img.shape[2]  # i.e. 3 or 4 depending on your image\n",
    "        ignore_mask_color = (255,) * channel_count\n",
    "    else:\n",
    "        ignore_mask_color = 255\n",
    "        \n",
    "    #filling pixels inside the polygon defined by \"vertices\" with the fill color    \n",
    "    cv2.fillPoly(mask, vertices, ignore_mask_color)\n",
    "    \n",
    "    #returning the image only where mask pixels are nonzero\n",
    "    masked_image = cv2.bitwise_and(img, mask)\n",
    "    return masked_image\n",
    "\n",
    "def draw_lines(img, lines, color=[255, 0, 0], thickness=2):\n",
    "    \"\"\"\n",
    "    NOTE: this is the function you might want to use as a starting point once you want to \n",
    "    average/extrapolate the line segments you detect to map out the full\n",
    "    extent of the lane (going from the result shown in raw-lines-example.mp4\n",
    "    to that shown in P1_example.mp4).  \n",
    "    \n",
    "    Think about things like separating line segments by their \n",
    "    slope ((y2-y1)/(x2-x1)) to decide which segments are part of the left\n",
    "    line vs. the right line.  Then, you can average the position of each of \n",
    "    the lines and extrapolate to the top and bottom of the lane.\n",
    "    \n",
    "    This function draws `lines` with `color` and `thickness`.    \n",
    "    Lines are drawn on the image inplace (mutates the image).\n",
    "    If you want to make the lines semi-transparent, think about combining\n",
    "    this function with the weighted_img() function below\n",
    "    \"\"\"\n",
    "    for line in lines:\n",
    "        for x1,y1,x2,y2 in line:\n",
    "            cv2.line(img, (x1, y1), (x2, y2), color, thickness)\n",
    "\n",
    "def get_y_intercept(lane_lines, slopes):\n",
    "    slopes = slopes[~np.isnan(slopes)]\n",
    "    slopes = slopes[~np.isinf(slopes)]\n",
    "    avg_slope = slopes.mean()\n",
    "    lane_lines = lane_lines.reshape((lane_lines.shape[0]*2, lane_lines.shape[1]//2))\n",
    "    x_min, y_min = np.mean(lane_lines, axis=0)\n",
    "    return y_min - (x_min*avg_slope), avg_slope\n",
    "\n",
    "def get_x_intercepts(y_1, y_2, slope, b):\n",
    "    if not (~np.isnan(slope) and ~np.isnan(b)):\n",
    "        x_1 = x_2 = 0.0\n",
    "    else:\n",
    "        x_1 = (y_1 - b)/slope\n",
    "        x_2 = (y_2 - b)/slope\n",
    "    return x_1, x_2\n",
    "\n",
    "prev_left_x1 = 0\n",
    "prev_left_x2 = 0\n",
    "prev_right_x1 = 0 \n",
    "prev_right_x2 = 0 \n",
    "prev_left_avg_m = 0\n",
    "prev_right_avg_m = 0\n",
    "pev_left_avg_m = -1\n",
    "prev_right_avg_m = 1\n",
    "prev_left_b = 0\n",
    "prev_right_b = 0\n",
    "prev_left_line = 0\n",
    "prev_right_line = 0\n",
    "\n",
    "def draw_lines_extrapolated(img, lines, color=[255, 0, 0], thickness=10):\n",
    "    imgshape = img.shape\n",
    "    lines = lines.reshape((lines.shape[0], lines.shape[2]))\n",
    "    y_min = lines.reshape((lines.shape[0]*2, lines.shape[1]//2))[:,1].min()\n",
    "    \n",
    "    # slope= (    y2      -     y1   )/(    x2     -     x1    )  \n",
    "    slopes = (lines[:,3] - lines[:,1])/(lines[:,2] - lines[:,0])\n",
    "    slopes = slopes[~np.isinf(slopes)]\n",
    "    slopes = slopes[~np.isnan(slopes)]\n",
    "    left_lines = lines[slopes < -0.5]   # Left  lines should have negative slope, thershold=-0.5\n",
    "    right_lines= lines[slopes > 0.5]   # Right lines should have positive slope, threshold=+0.5\n",
    "    left_slopes = slopes[slopes < -0.5]\n",
    "    right_slopes= slopes[slopes > 0.5]\n",
    "    \n",
    "    global prev_left_avg_m \n",
    "    global prev_right_avg_m \n",
    "    global prev_left_b\n",
    "    global prev_right_b\n",
    "    \n",
    "    left_b, left_avg_m = get_y_intercept(left_lines, left_slopes)\n",
    "    right_b, right_avg_m = get_y_intercept(right_lines, right_slopes)\n",
    "\n",
    "    keep_prev_left = False\n",
    "    keep_prev_right = False\n",
    "    \n",
    "    if left_avg_m < -0.83 or left_avg_m > -0.36:\n",
    "        left_avg_m = prev_left_avg_m\n",
    "        left_b = prev_left_b\n",
    "        keep_prev_left = True\n",
    "    if right_avg_m > 0.83 or right_avg_m < 0.36:\n",
    "        right_avg_m = prev_right_avg_m\n",
    "        right_b = prev_right_b\n",
    "        keep_prev_right = True\n",
    "       \n",
    "    \"\"\"\n",
    "    # For challenge video\n",
    "    if left_avg_m < -0.83 or left_avg_m > -0.57:\n",
    "        left_avg_m = prev_left_avg_m\n",
    "        left_b = prev_left_b\n",
    "        keep_prev_left = True\n",
    "    if right_avg_m > 0.83 or right_avg_m < 0.57:\n",
    "        right_avg_m = prev_right_avg_m\n",
    "        right_b = prev_right_b\n",
    "        keep_prev_right = True\n",
    "    \"\"\"\n",
    "  \n",
    "    prev_left_avg_m = left_avg_m \n",
    "    prev_right_avg_m = right_avg_m\n",
    "    prev_left_b = left_b\n",
    "    prev_right_b = right_b\n",
    "    \n",
    "    # using y_min, avg_slope and y_intercept find x1 and x2\n",
    "    left_x1, left_x2 = get_x_intercepts(y_1=y_min, y_2=imgshape[0], slope=left_avg_m, b=left_b)\n",
    "    right_x1, right_x2 = get_x_intercepts(y_1=y_min, y_2=imgshape[0], slope=right_avg_m, b=right_b)\n",
    "    \n",
    "    ##  Apply first order filter ##\n",
    "    global prev_left_x1\n",
    "    global prev_left_x2\n",
    "    global prev_right_x1 \n",
    "    global prev_right_x2 \n",
    "\n",
    "    if prev_left_x1 != 0 or prev_left_x2 != 0 or prev_right_x1 != 0 or prev_right_x2 !=0:\n",
    "        alpha = 0.2\n",
    "        left_x1_new = math.floor((alpha)*left_x1 + (1-alpha)*prev_left_x1)\n",
    "        left_x2_new = math.floor((alpha)*left_x2 + (1-alpha)*prev_left_x2)\n",
    "        right_x1_new = math.floor((alpha)*right_x1 + (1-alpha)*prev_right_x1)\n",
    "        right_x2_new = math.floor((alpha)*right_x2 + (1-alpha)*prev_right_x2)\n",
    "        prev_left_x1 = left_x1_new\n",
    "        prev_left_x2 = left_x2_new\n",
    "        prev_right_x1 = right_x1_new\n",
    "        prev_right_x2 = right_x2_new\n",
    "    else:\n",
    "        left_x1_new = left_x1\n",
    "        left_x2_new = left_x2\n",
    "        right_x1_new = right_x1\n",
    "        right_x2_new = right_x2\n",
    "        prev_left_x1 = left_x1_new\n",
    "        prev_left_x2 = left_x2_new\n",
    "        prev_right_x1 = right_x1_new\n",
    "        prev_right_x2 = right_x2_new\n",
    "\n",
    "    left_line = np.array([left_x1_new, y_min, left_x2_new, imgshape[0]], dtype=np.int32)\n",
    "    right_line = np.array([right_x1_new, y_min, right_x2_new, imgshape[0]], dtype=np.int32)\n",
    "    \n",
    "    if keep_prev_left:\n",
    "        left_line = prev_left_line\n",
    "        left_x1_new = prev_left_x1\n",
    "        left_x2_new = prev_left_x2\n",
    "    if keep_prev_right:\n",
    "        right_line = prev_right_line\n",
    "        right_x1_new = prev_right_x1\n",
    "        right_x2_new = prev_right_x2\n",
    "        \n",
    "    cv2.line(img, (int(left_x1_new), int(y_min)), (int(left_x2_new), imgshape[0]), color, thickness)\n",
    "    cv2.line(img, (int(right_x1_new), int(y_min)), (int(right_x2_new), imgshape[0]), color, thickness)        \n",
    "        \n",
    "    ## End first order filter  ##    \n",
    "    \n",
    "    \"\"\"\n",
    "    ## Without first order filter - Lines will wobble a bit. ##\n",
    "    \n",
    "    if not keep_prev_left:\n",
    "        left_line = np.array([left_x1, y_min, left_x2, imgshape[0]], dtype=np.int32)\n",
    "    else:\n",
    "        left_line = prev_left_line\n",
    "        \n",
    "    if not keep_prev_right:\n",
    "        right_line = np.array([right_x1, y_min, right_x2, imgshape[0]], dtype=np.int32)\n",
    "    else:\n",
    "        right_line = prev_right_line\n",
    "            \n",
    "    cv2.line(img, (int(left_x1), int(y_min)), (int(left_x2), imgshape[0]), color, thickness)\n",
    "    cv2.line(img, (int(right_x1), int(y_min)), (int(right_x2), imgshape[0]), color, thickness) \n",
    "    \n",
    "    ## Without first order filter ##\n",
    "    \"\"\"\n",
    "   \n",
    "    \n",
    "def hough_lines(img, rho, theta, threshold, min_line_len, max_line_gap, extrapolate=False, curvy=False):\n",
    "    \"\"\"\n",
    "    `img` should be the output of a Canny transform.\n",
    "    `rho` = distance resolution in pixels of the Hough grid\n",
    "    `theta` = angular resolution in radians of the Hough grid\n",
    "    `threshold` = minimum number of votes (intersections in Hough grid cell)\n",
    "    `min_line_len` = minimum number of pixels making up a line\n",
    "    `max_line_gap` = maximum gap in pixels between connectable line segments\n",
    "    Returns an image with hough lines drawn.\n",
    "    \"\"\" \n",
    "    lines = cv2.HoughLinesP(img, rho, theta, threshold, np.array([]), minLineLength=min_line_len, maxLineGap=max_line_gap)\n",
    "    line_img = np.zeros((img.shape[0], img.shape[1], 3), dtype=np.uint8)\n",
    "    if not extrapolate and not curvy:\n",
    "        draw_lines(line_img, lines)\n",
    "    elif extrapolate:\n",
    "        draw_lines_extrapolated(line_img, lines)\n",
    "    else:\n",
    "        draw_lines_curvy(line_img, lines)\n",
    "    return line_img\n",
    "\n",
    "# Python 3 has support for cool math symbols.\n",
    "\n",
    "def weighted_img(img, initial_img, α=0.8, β=1., λ=0.):\n",
    "    \"\"\"\n",
    "    `img` is the output of the hough_lines(), An image with lines drawn on it.\n",
    "    Should be a blank image (all black) with lines drawn on it.\n",
    "    \n",
    "    `initial_img` should be the image before any processing.\n",
    "    \n",
    "    The result image is computed as follows:\n",
    "    \n",
    "    initial_img * α + img * β + λ\n",
    "    NOTE: initial_img and img must be the same shape!\n",
    "    \"\"\"\n",
    "    return cv2.addWeighted(initial_img, α, img, β, λ)"
   ]
  },
  {
   "cell_type": "markdown",
   "metadata": {},
   "source": [
    "## Test on Images\n",
    "\n",
    "Now you should build your pipeline to work on the images in the directory \"test_images\"  \n",
    "**You should make sure your pipeline works well on these images before you try the videos.**"
   ]
  },
  {
   "cell_type": "code",
   "execution_count": null,
   "metadata": {},
   "outputs": [],
   "source": [
    "import os\n",
    "os.listdir(\"test_images/\")"
   ]
  },
  {
   "cell_type": "markdown",
   "metadata": {},
   "source": [
    "run your solution on all test_images and make copies into the test_images directory)."
   ]
  },
  {
   "cell_type": "code",
   "execution_count": null,
   "metadata": {},
   "outputs": [],
   "source": [
    "# TODO: Build your pipeline that will draw lane lines on the test_images\n",
    "# then save them to the test_images directory."
   ]
  },
  {
   "cell_type": "markdown",
   "metadata": {},
   "source": [
    "##### solidWhiteCurve.jpg  "
   ]
  },
  {
   "cell_type": "code",
   "execution_count": null,
   "metadata": {},
   "outputs": [],
   "source": [
    "img = mpimg.imread('test_images/solidWhiteCurve.jpg')\n",
    "img_shape= img.shape\n",
    "img_gray = grayscale(img)\n",
    "img_blur = gaussian_blur(img_gray, kernel_size=5)\n",
    "img_edge = canny(img_blur, low_threshold=50, high_threshold=150)\n",
    "vertices = np.array([[(0,img_shape[0]),(425, 315), (540, 315), (img_shape[1],img_shape[0])]], \\\n",
    "                        dtype=np.int32)\n",
    "img_masked_edges = region_of_interest(img_edge, vertices)\n",
    "img_hough_lines = hough_lines(img_masked_edges, rho=1, theta=np.pi/180, threshold=40,\n",
    "                              min_line_len=60, max_line_gap=20)\n",
    "img_lanes = weighted_img(img=img_hough_lines, initial_img=img, α=0.8, β=1., λ=0.)\n",
    "plt.imshow(img_lanes)"
   ]
  },
  {
   "cell_type": "code",
   "execution_count": null,
   "metadata": {},
   "outputs": [],
   "source": [
    "# Extrapolated lines\n",
    "img_hough_lines_extrapolated = hough_lines(img_masked_edges, rho=1, theta=np.pi/180, threshold=40,\n",
    "                              min_line_len=60, max_line_gap=20, extrapolate=True)\n",
    "img_lanes_extrapolated = weighted_img(img=img_hough_lines_extrapolated, initial_img=img, α=0.8, β=1., λ=0.)\n",
    "plt.imshow(img_lanes_extrapolated)"
   ]
  },
  {
   "cell_type": "markdown",
   "metadata": {},
   "source": [
    "##### solidWhiteRight.jpg "
   ]
  },
  {
   "cell_type": "code",
   "execution_count": null,
   "metadata": {},
   "outputs": [],
   "source": [
    "img = mpimg.imread('test_images/solidWhiteRight.jpg')\n",
    "img_shape= img.shape\n",
    "img_gray = grayscale(img)\n",
    "img_blur = gaussian_blur(img_gray, kernel_size=5)\n",
    "img_edge = canny(img_blur, low_threshold=50, high_threshold=150)\n",
    "vertices = np.array([[(0,img_shape[0]),(425, 315), (540, 315), (img_shape[1],img_shape[0])]], \\\n",
    "                        dtype=np.int32)\n",
    "img_masked_edges = region_of_interest(img_edge, vertices)\n",
    "img_hough_lines = hough_lines(img_masked_edges, rho=1, theta=np.pi/180, threshold=40,\n",
    "                              min_line_len=60, max_line_gap=40)\n",
    "img_lanes = weighted_img(img=img_hough_lines, initial_img=img, α=0.8, β=1., λ=0.)\n",
    "\n",
    "plt.imshow(img_lanes)"
   ]
  },
  {
   "cell_type": "code",
   "execution_count": null,
   "metadata": {},
   "outputs": [],
   "source": [
    "# Extrapolated lines\n",
    "img_hough_lines_extrapolated = hough_lines(img_masked_edges, rho=1, theta=np.pi/180, threshold=40,\n",
    "                              min_line_len=60, max_line_gap=40, extrapolate=True)\n",
    "img_lanes_extrapolated = weighted_img(img=img_hough_lines_extrapolated, initial_img=img, α=0.8, β=1., λ=0.)\n",
    "plt.imshow(img_lanes_extrapolated)"
   ]
  },
  {
   "cell_type": "markdown",
   "metadata": {},
   "source": [
    "##### solidYellowCurve.jpg"
   ]
  },
  {
   "cell_type": "code",
   "execution_count": null,
   "metadata": {},
   "outputs": [],
   "source": [
    "img = mpimg.imread('test_images/solidYellowCurve.jpg')\n",
    "img_shape= img.shape\n",
    "img_gray = grayscale(img)\n",
    "img_blur = gaussian_blur(img_gray, kernel_size=5)\n",
    "img_edge = canny(img_blur, low_threshold=50, high_threshold=150)\n",
    "vertices = np.array([[(0,img_shape[0]),(425, 315), (540, 315), (img_shape[1],img_shape[0])]], \\\n",
    "                        dtype=np.int32)\n",
    "img_masked_edges = region_of_interest(img_edge, vertices)\n",
    "img_hough_lines = hough_lines(img_masked_edges, rho=1, theta=np.pi/180, threshold=40,\n",
    "                              min_line_len=60, max_line_gap=30)\n",
    "img_lanes = weighted_img(img=img_hough_lines, initial_img=img, α=0.8, β=1., λ=0.)\n",
    "\n",
    "plt.imshow(img_lanes)"
   ]
  },
  {
   "cell_type": "code",
   "execution_count": null,
   "metadata": {},
   "outputs": [],
   "source": [
    "# Extrapolated lines\n",
    "img_hough_lines_extrapolated = hough_lines(img_masked_edges, rho=1, theta=np.pi/180, threshold=40,\n",
    "                              min_line_len=60, max_line_gap=30, extrapolate=True)\n",
    "img_lanes_extrapolated = weighted_img(img=img_hough_lines_extrapolated, initial_img=img, α=0.8, β=1., λ=0.)\n",
    "plt.imshow(img_lanes_extrapolated)"
   ]
  },
  {
   "cell_type": "markdown",
   "metadata": {},
   "source": [
    "##### solidYellowCurve2.jpg"
   ]
  },
  {
   "cell_type": "code",
   "execution_count": null,
   "metadata": {},
   "outputs": [],
   "source": [
    "img = mpimg.imread('test_images/solidYellowCurve2.jpg')\n",
    "img_shape= img.shape\n",
    "img_gray = grayscale(img)\n",
    "img_blur = gaussian_blur(img_gray, kernel_size=5)\n",
    "img_edge = canny(img_blur, low_threshold=50, high_threshold=150)\n",
    "vertices = np.array([[(0,img_shape[0]),(425, 315), (540, 315), (img_shape[1],img_shape[0])]], \\\n",
    "                        dtype=np.int32)\n",
    "img_masked_edges = region_of_interest(img_edge, vertices)\n",
    "img_hough_lines = hough_lines(img_masked_edges, rho=1, theta=np.pi/180, threshold=60,\n",
    "                              min_line_len=60, max_line_gap=30)\n",
    "img_lanes = weighted_img(img=img_hough_lines, initial_img=img, α=0.8, β=1., λ=0.)\n",
    "\n",
    "plt.imshow(img_lanes)"
   ]
  },
  {
   "cell_type": "code",
   "execution_count": null,
   "metadata": {},
   "outputs": [],
   "source": [
    "# Extrapolated lines\n",
    "img_hough_lines_extrapolated = hough_lines(img_masked_edges, rho=1, theta=np.pi/180, threshold=60,\n",
    "                              min_line_len=60, max_line_gap=30, extrapolate=True)\n",
    "img_lanes_extrapolated = weighted_img(img=img_hough_lines_extrapolated, initial_img=img, α=0.8, β=1., λ=0.)\n",
    "plt.imshow(img_lanes_extrapolated)"
   ]
  },
  {
   "cell_type": "markdown",
   "metadata": {},
   "source": [
    "##### solidYellowLeft.jpg"
   ]
  },
  {
   "cell_type": "code",
   "execution_count": null,
   "metadata": {},
   "outputs": [],
   "source": [
    "img = mpimg.imread('test_images/solidYellowLeft.jpg')\n",
    "img_shape= img.shape\n",
    "img_gray = grayscale(img)\n",
    "img_blur = gaussian_blur(img_gray, kernel_size=5)\n",
    "img_edge = canny(img_blur, low_threshold=50, high_threshold=150)\n",
    "vertices = np.array([[(0,img_shape[0]),(425, 315), (540, 315), (img_shape[1],img_shape[0])]], \\\n",
    "                        dtype=np.int32)\n",
    "img_masked_edges = region_of_interest(img_edge, vertices)\n",
    "img_hough_lines = hough_lines(img_masked_edges, rho=1, theta=np.pi/180, threshold=60, \n",
    "                              min_line_len=60, max_line_gap=30)\n",
    "img_lanes = weighted_img(img=img_hough_lines, initial_img=img, α=0.8, β=1., λ=0.)\n",
    "\n",
    "plt.imshow(img_lanes)"
   ]
  },
  {
   "cell_type": "code",
   "execution_count": null,
   "metadata": {},
   "outputs": [],
   "source": [
    "# Extrapolated lines\n",
    "img_hough_lines_extrapolated = hough_lines(img_masked_edges, rho=1, theta=np.pi/180, threshold=60, \n",
    "                              min_line_len=60, max_line_gap=30, extrapolate=True)\n",
    "img_lanes_extrapolated = weighted_img(img=img_hough_lines_extrapolated, initial_img=img, α=0.8, β=1., λ=0.)\n",
    "plt.imshow(img_lanes_extrapolated)"
   ]
  },
  {
   "cell_type": "markdown",
   "metadata": {},
   "source": [
    "##### whiteCarLaneSwitch.jpg"
   ]
  },
  {
   "cell_type": "code",
   "execution_count": null,
   "metadata": {},
   "outputs": [],
   "source": [
    "img = mpimg.imread('test_images/whiteCarLaneSwitch.jpg')\n",
    "img_shape= img.shape\n",
    "img_gray = grayscale(img)\n",
    "img_blur = gaussian_blur(img_gray, kernel_size=5)\n",
    "img_edge = canny(img_blur, low_threshold=50, high_threshold=150)\n",
    "vertices = np.array([[(0,img_shape[0]),(425, 315), (540, 315), (img_shape[1],img_shape[0])]], \\\n",
    "                        dtype=np.int32)\n",
    "img_masked_edges = region_of_interest(img_edge, vertices)\n",
    "img_hough_lines = hough_lines(img_masked_edges, rho=1, theta=np.pi/180, threshold=80,\n",
    "                              min_line_len=60, max_line_gap=30)\n",
    "img_lanes = weighted_img(img=img_hough_lines, initial_img=img, α=0.8, β=1., λ=0.)\n",
    "\n",
    "plt.imshow(img_lanes)"
   ]
  },
  {
   "cell_type": "code",
   "execution_count": null,
   "metadata": {},
   "outputs": [],
   "source": [
    "# Extrapolated lines\n",
    "img_hough_lines_extrapolated = hough_lines(img_masked_edges, rho=1, theta=np.pi/180, threshold=80,\n",
    "                              min_line_len=60, max_line_gap=30, extrapolate=True)\n",
    "img_lanes_extrapolated = weighted_img(img=img_hough_lines_extrapolated, initial_img=img, α=0.8, β=1., λ=0.)\n",
    "plt.imshow(img_lanes_extrapolated)"
   ]
  },
  {
   "cell_type": "markdown",
   "metadata": {},
   "source": [
    "## Test on Videos\n",
    "\n",
    "You know what's cooler than drawing lanes over images? Drawing lanes over video!\n",
    "\n",
    "We can test our solution on two provided videos:\n",
    "\n",
    "`solidWhiteRight.mp4`\n",
    "\n",
    "`solidYellowLeft.mp4`"
   ]
  },
  {
   "cell_type": "code",
   "execution_count": null,
   "metadata": {},
   "outputs": [],
   "source": [
    "# Import everything needed to edit/save/watch video clips\n",
    "from moviepy.editor import VideoFileClip\n",
    "from IPython.display import HTML"
   ]
  },
  {
   "cell_type": "code",
   "execution_count": null,
   "metadata": {},
   "outputs": [],
   "source": [
    "def process_image(image):\n",
    "    # NOTE: The output you return should be a color image (3 channel) for processing video below\n",
    "    # TODO: put your pipeline here,\n",
    "    # you should return the final output (image with lines are drawn on lanes)\n",
    "    img_shape= image.shape\n",
    "    img_gray = grayscale(image)\n",
    "    \n",
    "    \n",
    "    img_blur = gaussian_blur(img_gray, kernel_size=5)\n",
    "    img_edge = canny(img_gray, low_threshold=50, high_threshold=100)\n",
    "    # For challenge video, use different parameters below\n",
    "    #img_blur = gaussian_blur(img_gray, kernel_size=3) # for challenge video\n",
    "    #img_edge = canny(img_blur, low_threshold=5, high_threshold=170)  # for challenge video \n",
    "\n",
    "    \n",
    "    # to make this function moregeneral, I am using % of height and width of each video frame,\n",
    "    # rather than using explicit vertices that I used while processing images above \n",
    "    vertices = np.array([[(img_shape[1]*0.20,img_shape[0]),(img_shape[1]*0.40, img_shape[0]*0.60), \n",
    "                          (img_shape[1]*0.55, img_shape[0]*0.60), (img_shape[1],img_shape[0])]], dtype=np.int32)\n",
    "    # For challenge video, use different parameters below \n",
    "    #vertices = np.array([[(img_shape[1]*0.10,img_shape[0]),(img_shape[1]*0.40, img_shape[0]*0.60), \n",
    "    #                      (img_shape[1]*0.55, img_shape[0]*0.60), (img_shape[1],img_shape[0])]], dtype=np.int32)\n",
    "    \n",
    "    \n",
    "    img_masked_edges = region_of_interest(img_edge, vertices)\n",
    "    \n",
    "    \n",
    "    # Update the parameters in hough_lines to make it work on all videos\n",
    "    img_hough_lines_extrapolated = hough_lines(img_masked_edges, rho=1, theta=np.pi/180, threshold=40,\n",
    "                              min_line_len=10, max_line_gap=70, extrapolate=True)\n",
    "    # For Challenge video, use different paremeters below \n",
    "    #img_hough_lines_extrapolated = hough_lines(img_masked_edges, rho=0.5, theta=np.pi/360, threshold=8,\n",
    "    #                          min_line_len=5, max_line_gap=150, extrapolate=True)\n",
    "    \n",
    "    img_lanes_extrapolated = weighted_img(img=img_hough_lines_extrapolated, initial_img=image, α=0.8, β=1., λ=0.)\n",
    "\n",
    "    return img_lanes_extrapolated"
   ]
  },
  {
   "cell_type": "markdown",
   "metadata": {},
   "source": [
    "### Let's try the one with the solid white lane on the right first ..."
   ]
  },
  {
   "cell_type": "code",
   "execution_count": null,
   "metadata": {},
   "outputs": [],
   "source": [
    "white_output = 'white.mp4'\n",
    "clip1 = VideoFileClip(\"solidWhiteRight.mp4\")\n",
    "white_clip = clip1.fl_image(process_image) #NOTE: this function expects color images!!\n",
    "%time white_clip.write_videofile(white_output, audio=False)"
   ]
  },
  {
   "cell_type": "markdown",
   "metadata": {},
   "source": [
    "Play the video inline, or if you prefer find the video in your filesystem (should be in the same directory) and play it in your video player of choice."
   ]
  },
  {
   "cell_type": "code",
   "execution_count": null,
   "metadata": {},
   "outputs": [],
   "source": [
    "#HTML(\"\"\"\n",
    "#<video width=\"960\" height=\"540\" controls>\n",
    "#  <source src=\"https://youtu.be/VXccUjr322A\">\n",
    "#</video>\n",
    "#\"\"\".format(white_output))\n",
    "\n",
    "# Note: The above code didn't work well on my browser, so I'm using a differet method to display video output.\n",
    "\n",
    "from IPython.display import YouTubeVideo\n",
    "YouTubeVideo('https://youtu.be/VXccUjr322A')\n"
   ]
  },
  {
   "cell_type": "markdown",
   "metadata": {},
   "source": [
    "**At this point, if you were successful you probably have the Hough line segments drawn onto the road, but what about identifying the full extent of the lane and marking it clearly as in the example video (P1_example.mp4)?  Think about defining a line to run the full length of the visible lane based on the line segments you identified with the Hough Transform.  Modify your draw_lines function accordingly and try re-running your pipeline.**"
   ]
  },
  {
   "cell_type": "markdown",
   "metadata": {},
   "source": [
    "Now for the one with the solid yellow lane on the left. This one's more tricky!"
   ]
  },
  {
   "cell_type": "code",
   "execution_count": null,
   "metadata": {},
   "outputs": [],
   "source": [
    "yellow_output = 'yellow.mp4'\n",
    "clip2 = VideoFileClip('solidYellowLeft.mp4')\n",
    "yellow_clip = clip2.fl_image(process_image)\n",
    "%time yellow_clip.write_videofile(yellow_output, audio=False)"
   ]
  },
  {
   "cell_type": "code",
   "execution_count": null,
   "metadata": {},
   "outputs": [],
   "source": [
    "#HTML(\"\"\"\n",
    "#<video width=\"960\" height=\"540\" controls>\n",
    "#  <source src=\"{0}\">\n",
    "#</video>\n",
    "#\"\"\".format(yellow_output))\n",
    "\n",
    "from IPython.display import YouTubeVideo\n",
    "YouTubeVideo('https://youtu.be/t38wJ3V3Mi8')"
   ]
  },
  {
   "cell_type": "markdown",
   "metadata": {},
   "source": [
    "## Reflections\n",
    "\n",
    "Congratulations on finding the lane lines!  As the final step in this project, we would like you to share your thoughts on your lane finding pipeline... specifically, how could you imagine making your algorithm better / more robust?  Where will your current algorithm be likely to fail?\n",
    "\n",
    "Please add your thoughts below,  and if you're up for making your pipeline more robust, be sure to scroll down and check out the optional challenge video below!\n"
   ]
  },
  {
   "cell_type": "markdown",
   "metadata": {},
   "source": [
    "- This was a fun project. Even though I was already familiar with Hough Transform, I learned a bit more about Hough Transform by fiddling with parameters. Parameter tuning is probably one of the most important skills in Computer Vision. \n",
    "\n",
    "- Brief description of my current pipeline:\n",
    "  - I am first converting the color image (or a frame from a video) to a grayscale image. This enables us to work on a single channel of the image, instead of working on all 3 channels (BGR). So this is computationally less intensive\n",
    "  - Then I am applying Gaussian Blur to the image. I also tried Bilateral Filtering, since this filtering preserves edges better, compared to Gaussian Filter. However, I did not see a big advantage in this project, so I kept the Gaussian Filtering in my code to be consistent with given specifications. \n",
    "  - Then I applied Canny Edge detection on this smoothed image. \n",
    "  - To make this process more efficent, I used a small GUI tool. \n",
    "    Here's the demo of the tool: https://youtu.be/xdiekchp-Uc \n",
    "  - On this Edge image, I filtered region of interest by applying a mask. Since we are primarily interested in edges in the region where we expect our road to be, I removed the edges in other areas of the image. \n",
    "  - Then I applied Hough Lines algorithm on this masked edge image. This gives us line segments where we have edges near the lane lines\n",
    "  - Once I get the lane line segments, I extrapolated the left lane line and right lane line, based on the angle. \n",
    "  - Since we are using Polar coordinates in Hough Transform, our left line will have negative slope and the right line will have positive slope. Based on this, I classify each line segment to be either a left line segment or a right line segment. Then I take average of all left line segments and draw an extrapolated left line. I apply same method for extrapolating the right line segment as well. To make the extrapolated lines more stable and less wobbly, I applied weighted sum of previous slope and current slope of each line. This allows smooth transitioning of the slope, so the outcome looks more stable. \n",
    "\n",
    "- I think using simply Hough Transform algorithm is not very robust for finding lane lines. For example, Hough Transform may not work well when there is cross-walk nearby or when parts of the road are not painted. Unless we implement Hyperbola fitting in Hough Transform, the algorithm may not work very well on curvy roads. \n",
    "\n",
    "- To make algorithm work better:\n",
    "  - We can probaly use K-means clustering in our region of interest. This will work well, if we simply want to follow our current lane. \n",
    "  - We can also do RANSAC. \n",
    "  - Another option could be using Histograms to do Sengmentation. "
   ]
  },
  {
   "cell_type": "markdown",
   "metadata": {},
   "source": [
    "## Submission\n",
    "\n",
    "If you're satisfied with your video outputs it's time to submit!  Submit this ipython notebook for review.\n"
   ]
  },
  {
   "cell_type": "markdown",
   "metadata": {
    "collapsed": true
   },
   "source": [
    "## Optional Challenge\n",
    "\n",
    "Try your lane finding pipeline on the video below.  Does it still work?  Can you figure out a way to make it more robust?  If you're up for the challenge, modify your pipeline so it works with this video and submit it along with the rest of your project!"
   ]
  },
  {
   "cell_type": "code",
   "execution_count": null,
   "metadata": {},
   "outputs": [],
   "source": [
    "# Note: You will need to use the commented out parameters for the challenge video. \n",
    "# Reason: I used differnet parameters for the challenge video than the other two videos, to improve result\n",
    "challenge_output = 'extra.mp4'\n",
    "clip2 = VideoFileClip('challenge.mp4')\n",
    "challenge_clip = clip2.fl_image(process_image)\n",
    "%time challenge_clip.write_videofile(challenge_output, audio=False)"
   ]
  },
  {
   "cell_type": "code",
   "execution_count": null,
   "metadata": {},
   "outputs": [],
   "source": [
    "#HTML(\"\"\"\n",
    "#<video width=\"960\" height=\"540\" controls>\n",
    "#  <source src=\"{0}\">\n",
    "#</video>\n",
    "#\"\"\".format(challenge_output))\n",
    "\n",
    "# Below is the output of challenge video:\n",
    "\n",
    "from IPython.display import YouTubeVideo\n",
    "YouTubeVideo('https://youtu.be/6eJAxwa-qDY')"
   ]
  }
 ],
 "metadata": {
  "anaconda-cloud": {},
  "kernelspec": {
   "display_name": "Python 3",
   "language": "python",
   "name": "python3"
  },
  "language_info": {
   "codemirror_mode": {
    "name": "ipython",
    "version": 3
   },
   "file_extension": ".py",
   "mimetype": "text/x-python",
   "name": "python",
   "nbconvert_exporter": "python",
   "pygments_lexer": "ipython3",
   "version": "3.8.8"
  },
  "widgets": {
   "state": {},
   "version": "1.1.2"
  }
 },
 "nbformat": 4,
 "nbformat_minor": 1
}
